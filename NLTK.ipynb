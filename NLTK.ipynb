{
  "nbformat": 4,
  "nbformat_minor": 0,
  "metadata": {
    "colab": {
      "provenance": [],
      "gpuType": "T4",
      "authorship_tag": "ABX9TyOguIJyZK3TIhIvZKmNZQRE",
      "include_colab_link": true
    },
    "kernelspec": {
      "name": "python3",
      "display_name": "Python 3"
    },
    "language_info": {
      "name": "python"
    },
    "accelerator": "GPU",
    "gpuClass": "standard"
  },
  "cells": [
    {
      "cell_type": "markdown",
      "metadata": {
        "id": "view-in-github",
        "colab_type": "text"
      },
      "source": [
        "<a href=\"https://colab.research.google.com/github/AlirezaAhadipour/NLP_Pre-processing/blob/main/NLTK.ipynb\" target=\"_parent\"><img src=\"https://colab.research.google.com/assets/colab-badge.svg\" alt=\"Open In Colab\"/></a>"
      ]
    },
    {
      "cell_type": "code",
      "source": [
        "text = 'Hi. My name is Alireza. I am a passionate Data Scientist. Welcome to my Github page.'"
      ],
      "metadata": {
        "id": "MkYyNHCcNCxO"
      },
      "execution_count": null,
      "outputs": []
    },
    {
      "cell_type": "markdown",
      "source": [
        "# Tokenization"
      ],
      "metadata": {
        "id": "HeVbtUM-Mja_"
      }
    },
    {
      "cell_type": "code",
      "execution_count": null,
      "metadata": {
        "colab": {
          "base_uri": "https://localhost:8080/"
        },
        "id": "wN_EIuT4MarT",
        "outputId": "46340a54-fdfb-4d43-e8b2-a9915060f0c2"
      },
      "outputs": [
        {
          "output_type": "stream",
          "name": "stderr",
          "text": [
            "[nltk_data] Downloading package punkt to /root/nltk_data...\n",
            "[nltk_data]   Unzipping tokenizers/punkt.zip.\n"
          ]
        },
        {
          "output_type": "execute_result",
          "data": {
            "text/plain": [
              "True"
            ]
          },
          "metadata": {},
          "execution_count": 6
        }
      ],
      "source": [
        "import nltk\n",
        "from nltk.tokenize import sent_tokenize, word_tokenize\n",
        "\n",
        "nltk.download('punkt')"
      ]
    },
    {
      "cell_type": "code",
      "source": [
        "tokens = sent_tokenize(text)\n",
        "print(tokens)"
      ],
      "metadata": {
        "colab": {
          "base_uri": "https://localhost:8080/"
        },
        "id": "4iCZCsaAM24I",
        "outputId": "489ebc02-71be-4de2-e132-20ad1c9faf10"
      },
      "execution_count": null,
      "outputs": [
        {
          "output_type": "stream",
          "name": "stdout",
          "text": [
            "['Hi.', 'My name is Alireza.', 'I am a passionate Data Scientist.', 'Welcome to my Github page.']\n"
          ]
        }
      ]
    },
    {
      "cell_type": "code",
      "source": [
        "tokens = word_tokenize(text)\n",
        "print(tokens)"
      ],
      "metadata": {
        "colab": {
          "base_uri": "https://localhost:8080/"
        },
        "id": "b5z0W0a_NTaZ",
        "outputId": "ed451b3d-efd7-45ad-e405-db5ea461c000"
      },
      "execution_count": null,
      "outputs": [
        {
          "output_type": "stream",
          "name": "stdout",
          "text": [
            "['Hi', '.', 'My', 'name', 'is', 'Alireza', '.', 'I', 'am', 'a', 'passionate', 'Data', 'Scientist', '.', 'Welcome', 'to', 'my', 'Github', 'page', '.']\n"
          ]
        }
      ]
    },
    {
      "cell_type": "markdown",
      "source": [
        "# Parsing"
      ],
      "metadata": {
        "id": "_DDy-76JN9hd"
      }
    },
    {
      "cell_type": "code",
      "source": [
        "# nltk.ngrams(text,n)"
      ],
      "metadata": {
        "id": "6dt30l1TRPjs"
      },
      "execution_count": null,
      "outputs": []
    },
    {
      "cell_type": "code",
      "source": [
        "unigram = nltk.ngrams(tokens, 1)\n",
        "print(list(unigram))"
      ],
      "metadata": {
        "colab": {
          "base_uri": "https://localhost:8080/"
        },
        "id": "585Rw66IN9Az",
        "outputId": "2390267c-7c6f-48cd-c555-6c5c465476e4"
      },
      "execution_count": null,
      "outputs": [
        {
          "output_type": "stream",
          "name": "stdout",
          "text": [
            "[('Hi',), ('.',), ('My',), ('name',), ('is',), ('Alireza',), ('.',), ('I',), ('am',), ('a',), ('passionate',), ('Data',), ('Scientist',), ('.',), ('Welcome',), ('to',), ('my',), ('Github',), ('page',), ('.',)]\n"
          ]
        }
      ]
    },
    {
      "cell_type": "code",
      "source": [
        "bigram = nltk.bigrams(tokens)\n",
        "print(list(bigram))"
      ],
      "metadata": {
        "colab": {
          "base_uri": "https://localhost:8080/"
        },
        "id": "2AvoDdI-OKZk",
        "outputId": "3633007d-6418-4e82-ffa8-ce36bb52f00a"
      },
      "execution_count": null,
      "outputs": [
        {
          "output_type": "stream",
          "name": "stdout",
          "text": [
            "[('Hi', '.'), ('.', 'My'), ('My', 'name'), ('name', 'is'), ('is', 'Alireza'), ('Alireza', '.'), ('.', 'I'), ('I', 'am'), ('am', 'a'), ('a', 'passionate'), ('passionate', 'Data'), ('Data', 'Scientist'), ('Scientist', '.'), ('.', 'Welcome'), ('Welcome', 'to'), ('to', 'my'), ('my', 'Github'), ('Github', 'page'), ('page', '.')]\n"
          ]
        }
      ]
    },
    {
      "cell_type": "code",
      "source": [
        "trigram = nltk.trigrams(tokens)\n",
        "print(list(trigram))"
      ],
      "metadata": {
        "colab": {
          "base_uri": "https://localhost:8080/"
        },
        "id": "sLbmpj0iPzgl",
        "outputId": "89e1015f-09c8-4aad-b749-7688548721e6"
      },
      "execution_count": null,
      "outputs": [
        {
          "output_type": "stream",
          "name": "stdout",
          "text": [
            "[('Hi', '.', 'My'), ('.', 'My', 'name'), ('My', 'name', 'is'), ('name', 'is', 'Alireza'), ('is', 'Alireza', '.'), ('Alireza', '.', 'I'), ('.', 'I', 'am'), ('I', 'am', 'a'), ('am', 'a', 'passionate'), ('a', 'passionate', 'Data'), ('passionate', 'Data', 'Scientist'), ('Data', 'Scientist', '.'), ('Scientist', '.', 'Welcome'), ('.', 'Welcome', 'to'), ('Welcome', 'to', 'my'), ('to', 'my', 'Github'), ('my', 'Github', 'page'), ('Github', 'page', '.')]\n"
          ]
        }
      ]
    },
    {
      "cell_type": "markdown",
      "source": [
        "# Stemming"
      ],
      "metadata": {
        "id": "428FdsKCRxFh"
      }
    },
    {
      "cell_type": "code",
      "source": [
        "from nltk.stem import PorterStemmer"
      ],
      "metadata": {
        "id": "5RB2z9aAQ-Hm"
      },
      "execution_count": null,
      "outputs": []
    },
    {
      "cell_type": "code",
      "source": [
        "stm = PorterStemmer()\n",
        "stm.stem('running'), pst.stem('corpora'), pst.stem('studies')"
      ],
      "metadata": {
        "colab": {
          "base_uri": "https://localhost:8080/"
        },
        "id": "tQOHCKNtR4Ud",
        "outputId": "5ac25705-516a-4d9f-c0cc-0cbb4c0723ef"
      },
      "execution_count": null,
      "outputs": [
        {
          "output_type": "execute_result",
          "data": {
            "text/plain": [
              "('run', 'corpora', 'studi')"
            ]
          },
          "metadata": {},
          "execution_count": 43
        }
      ]
    },
    {
      "cell_type": "markdown",
      "source": [
        "# Lemmatization"
      ],
      "metadata": {
        "id": "ENdFc-UTTN12"
      }
    },
    {
      "cell_type": "code",
      "source": [
        "from nltk.stem import WordNetLemmatizer\n",
        "\n",
        "nltk.download('wordnet')"
      ],
      "metadata": {
        "colab": {
          "base_uri": "https://localhost:8080/"
        },
        "id": "K-g96Ac8S8Jx",
        "outputId": "4ef4e65a-d7c2-4fea-ed39-2cfc48ebbe60"
      },
      "execution_count": null,
      "outputs": [
        {
          "output_type": "stream",
          "name": "stderr",
          "text": [
            "[nltk_data] Downloading package wordnet to /root/nltk_data...\n"
          ]
        },
        {
          "output_type": "execute_result",
          "data": {
            "text/plain": [
              "True"
            ]
          },
          "metadata": {},
          "execution_count": 46
        }
      ]
    },
    {
      "cell_type": "code",
      "source": [
        "lemma = WordNetLemmatizer()\n",
        "lemma.lemmatize('running'), lemma.lemmatize('corpora'), lemma.lemmatize('studies')"
      ],
      "metadata": {
        "colab": {
          "base_uri": "https://localhost:8080/"
        },
        "id": "c3h9HjoJTZzb",
        "outputId": "449058d6-64a8-4491-af9a-8cf201f1dcf5"
      },
      "execution_count": null,
      "outputs": [
        {
          "output_type": "execute_result",
          "data": {
            "text/plain": [
              "('running', 'corpus', 'study')"
            ]
          },
          "metadata": {},
          "execution_count": 47
        }
      ]
    },
    {
      "cell_type": "markdown",
      "source": [
        "# Part-of-Speech (PoS) Tagging"
      ],
      "metadata": {
        "id": "g5Y5xKH5X6mP"
      }
    },
    {
      "cell_type": "code",
      "source": [
        "from nltk.corpus import stopwords\n",
        "\n",
        "nltk.download('stopwords')\n",
        "nltk.download('averaged_perceptron_tagger')"
      ],
      "metadata": {
        "colab": {
          "base_uri": "https://localhost:8080/"
        },
        "id": "eZ5Vde6OUfb0",
        "outputId": "d9aa0a77-e852-4ed1-dbc0-743a45905eed"
      },
      "execution_count": null,
      "outputs": [
        {
          "output_type": "stream",
          "name": "stderr",
          "text": [
            "[nltk_data] Downloading package stopwords to /root/nltk_data...\n",
            "[nltk_data]   Package stopwords is already up-to-date!\n",
            "[nltk_data] Downloading package averaged_perceptron_tagger to\n",
            "[nltk_data]     /root/nltk_data...\n",
            "[nltk_data]   Unzipping taggers/averaged_perceptron_tagger.zip.\n"
          ]
        },
        {
          "output_type": "execute_result",
          "data": {
            "text/plain": [
              "True"
            ]
          },
          "metadata": {},
          "execution_count": 59
        }
      ]
    },
    {
      "cell_type": "code",
      "source": [
        "stop_words = set(stopwords.words('english'))\n",
        "print(stop_words)"
      ],
      "metadata": {
        "colab": {
          "base_uri": "https://localhost:8080/"
        },
        "id": "0ZFEYH1XZQqt",
        "outputId": "2bd626f9-98ce-43b9-e0b3-ec15868d74d8"
      },
      "execution_count": null,
      "outputs": [
        {
          "output_type": "stream",
          "name": "stdout",
          "text": [
            "{\"shan't\", \"you're\", 'whom', 'her', 'ours', \"she's\", 'aren', 'out', 'our', 'from', 'its', 'on', \"mightn't\", \"hasn't\", \"that'll\", 'in', 'each', 'with', 'y', 'no', 'needn', 'not', 'at', 'then', 'own', 'myself', 'mustn', 'hers', 'have', 'hadn', 'll', 'yours', 'before', 'there', 'didn', 'off', 'too', 'can', 'wasn', 'to', 'same', 'an', 'herself', 'we', 'are', 'a', \"shouldn't\", \"you've\", 'm', 'me', 'once', 'd', \"wasn't\", 'has', 'after', 'himself', 'when', 'nor', 'just', 'i', 'if', 'for', 'you', 'the', 'and', \"you'll\", 'into', 'what', 'be', 'as', 'only', 's', 'more', 're', 'their', 'ain', 'weren', 'here', 'does', 'ourselves', 'having', 'all', 'it', 'will', 'below', 'over', \"couldn't\", 'he', \"isn't\", 'by', 'o', 'some', 'or', 'his', 'any', 'during', 'such', 'hasn', 'very', \"haven't\", 'under', 'how', \"doesn't\", 'itself', 'shouldn', 'where', \"don't\", 'should', \"aren't\", 'this', \"weren't\", \"mustn't\", \"you'd\", 'these', 've', 'won', 'is', 'had', 'while', \"won't\", 'both', 'couldn', 'that', 'until', 'other', 'few', 'been', 'don', 'now', 't', 'isn', 'they', 'above', 'yourselves', \"didn't\", 'so', \"should've\", 'theirs', 'down', 'yourself', 'of', 'between', \"needn't\", 'who', 'through', 'those', 'against', 'haven', 'did', \"wouldn't\", 'do', 'him', 'she', 'about', 'further', 'most', 'themselves', 'than', 'your', 'because', 'wouldn', 'ma', 'being', 'why', 'again', 'was', 'them', 'mightn', 'which', 'am', 'doing', \"hadn't\", 'but', 'my', 'doesn', 'shan', \"it's\", 'were', 'up'}\n"
          ]
        }
      ]
    },
    {
      "cell_type": "code",
      "source": [
        "# remove stop words\n",
        "wordslist = [word for word in tokens if word not in stop_words]\n",
        "print(wordslist)"
      ],
      "metadata": {
        "colab": {
          "base_uri": "https://localhost:8080/"
        },
        "id": "45PsBKVAZXJv",
        "outputId": "ce40915b-bfc7-4c87-bc08-7fda19348fc9"
      },
      "execution_count": null,
      "outputs": [
        {
          "output_type": "stream",
          "name": "stdout",
          "text": [
            "['Hi', '.', 'My', 'name', 'Alireza', '.', 'I', 'passionate', 'Data', 'Scientist', '.', 'Welcome', 'Github', 'page', '.']\n"
          ]
        }
      ]
    },
    {
      "cell_type": "code",
      "source": [
        "tagged_words = nltk.pos_tag(wordslist)\n",
        "print(tagged_words)"
      ],
      "metadata": {
        "colab": {
          "base_uri": "https://localhost:8080/"
        },
        "id": "K0FBmU57aY80",
        "outputId": "c30072c3-8595-47b6-8618-2e0868a4545c"
      },
      "execution_count": null,
      "outputs": [
        {
          "output_type": "stream",
          "name": "stdout",
          "text": [
            "[('Hi', 'NNP'), ('.', '.'), ('My', 'PRP$'), ('name', 'NN'), ('Alireza', 'NNP'), ('.', '.'), ('I', 'PRP'), ('passionate', 'VBP'), ('Data', 'NNS'), ('Scientist', 'NNP'), ('.', '.'), ('Welcome', 'NNP'), ('Github', 'NNP'), ('page', 'NN'), ('.', '.')]\n"
          ]
        }
      ]
    },
    {
      "cell_type": "markdown",
      "source": [
        "# Named Entity Recognition (NER)"
      ],
      "metadata": {
        "id": "3qt2Lifua_zY"
      }
    },
    {
      "cell_type": "code",
      "source": [
        "import spacy"
      ],
      "metadata": {
        "id": "dmw9Ph9oau89"
      },
      "execution_count": null,
      "outputs": []
    },
    {
      "cell_type": "code",
      "source": [
        "nlp = spacy.load('en_core_web_sm')"
      ],
      "metadata": {
        "id": "JWjaQ-8NhP6V"
      },
      "execution_count": null,
      "outputs": []
    },
    {
      "cell_type": "code",
      "source": [
        "document = nlp(text)\n",
        "for ent in document.ents:\n",
        "  print(ent.text, ent.start_char, ent.end_char, ent.label_)"
      ],
      "metadata": {
        "colab": {
          "base_uri": "https://localhost:8080/"
        },
        "id": "YAsJ-2UjhWBg",
        "outputId": "0aea451b-aef5-458f-f8bf-4901b0cc788d"
      },
      "execution_count": null,
      "outputs": [
        {
          "output_type": "stream",
          "name": "stdout",
          "text": [
            "Alireza 15 22 PERSON\n",
            "Data Scientist 42 56 ORG\n",
            "Github 72 78 GPE\n"
          ]
        }
      ]
    },
    {
      "cell_type": "code",
      "source": [],
      "metadata": {
        "id": "9lUoUtRoh7Zp"
      },
      "execution_count": null,
      "outputs": []
    }
  ]
}